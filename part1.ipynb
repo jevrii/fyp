{
 "cells": [
  {
   "cell_type": "code",
   "execution_count": 2,
   "metadata": {},
   "outputs": [],
   "source": [
    "import numpy as np\n",
    "import matplotlib.pyplot as plt"
   ]
  },
  {
   "cell_type": "code",
   "execution_count": 3,
   "metadata": {},
   "outputs": [],
   "source": [
    "iterations = 1000\n",
    "n = 1000\n",
    "secret_beta = 2\n",
    "sigma_eps = 1"
   ]
  },
  {
   "cell_type": "code",
   "execution_count": 4,
   "metadata": {},
   "outputs": [
    {
     "name": "stdout",
     "output_type": "stream",
     "text": [
      "var=3.000000, normal mse=0.000097;   df=3.000000, t mse=0.000097;   \n",
      "var=2.000000, normal mse=0.000063;   df=4.000000, t mse=0.000065;   \n",
      "var=1.666667, normal mse=0.000056;   df=5.000000, t mse=0.000055;   \n",
      "var=1.500000, normal mse=0.000048;   df=6.000000, t mse=0.000049;   \n",
      "var=1.400000, normal mse=0.000047;   df=7.000000, t mse=0.000049;   \n",
      "var=1.333333, normal mse=0.000044;   df=8.000000, t mse=0.000044;   \n",
      "var=1.285714, normal mse=0.000042;   df=9.000000, t mse=0.000045;   \n",
      "var=1.250000, normal mse=0.000041;   df=10.000000, t mse=0.000039;   \n",
      "var=1.222222, normal mse=0.000040;   df=11.000000, t mse=0.000040;   \n",
      "var=1.200000, normal mse=0.000041;   df=12.000000, t mse=0.000041;   \n",
      "var=1.181818, normal mse=0.000036;   df=13.000000, t mse=0.000041;   \n",
      "var=1.166667, normal mse=0.000040;   df=14.000000, t mse=0.000039;   \n",
      "var=1.153846, normal mse=0.000041;   df=15.000000, t mse=0.000040;   \n",
      "var=1.142857, normal mse=0.000038;   df=16.000000, t mse=0.000039;   \n",
      "var=1.133333, normal mse=0.000037;   df=17.000000, t mse=0.000037;   \n",
      "var=1.125000, normal mse=0.000039;   df=18.000000, t mse=0.000037;   \n",
      "var=1.117647, normal mse=0.000039;   df=19.000000, t mse=0.000036;   \n",
      "var=1.111111, normal mse=0.000037;   df=20.000000, t mse=0.000037;   \n",
      "var=1.105263, normal mse=0.000037;   df=21.000000, t mse=0.000037;   \n",
      "var=1.100000, normal mse=0.000039;   df=22.000000, t mse=0.000037;   \n",
      "var=1.095238, normal mse=0.000038;   df=23.000000, t mse=0.000037;   \n",
      "var=1.090909, normal mse=0.000034;   df=24.000000, t mse=0.000037;   \n",
      "var=1.086957, normal mse=0.000036;   df=25.000000, t mse=0.000035;   \n",
      "var=1.083333, normal mse=0.000038;   df=26.000000, t mse=0.000034;   \n",
      "var=1.080000, normal mse=0.000037;   df=27.000000, t mse=0.000038;   \n",
      "var=1.076923, normal mse=0.000038;   df=28.000000, t mse=0.000036;   \n",
      "var=1.074074, normal mse=0.000034;   df=29.000000, t mse=0.000035;   \n",
      "var=1.071429, normal mse=0.000035;   df=30.000000, t mse=0.000036;   \n"
     ]
    }
   ],
   "source": [
    "mse_normal = np.array([])\n",
    "mse_t = np.array([])\n",
    "\n",
    "for df in range(3, 31):\n",
    "    errors_normal = np.array([])\n",
    "    errors_t = np.array([])\n",
    "\n",
    "    for _ in range(iterations):\n",
    "        x = np.linspace(-10,10,n)\n",
    "        \n",
    "        y_normal = x*secret_beta + np.random.normal(scale=np.sqrt(df/(df-2)), size=n)\n",
    "        beta_normal = np.cov(x, y_normal)[0][1]/np.var(x)\n",
    "        errors_normal = np.append(errors_normal, (beta_normal-secret_beta)**2)\n",
    "        \n",
    "        y_t = x*secret_beta + np.random.standard_t(df=df, size=n)\n",
    "        beta_t = np.cov(x, y_t)[0][1]/np.var(x)\n",
    "        errors_t = np.append(errors_t, (beta_t-secret_beta)**2)\n",
    "\n",
    "    print(\"var=%f, normal mse=%f;   df=%f, t mse=%f;   \"%(df/(df-2), errors_normal.mean(), df, errors_t.mean()))\n",
    "    \n",
    "    mse_normal = np.append(mse_normal, errors_normal.mean())\n",
    "    mse_t = np.append(mse_t, errors_t.mean())"
   ]
  },
  {
   "cell_type": "code",
   "execution_count": 5,
   "metadata": {},
   "outputs": [
    {
     "data": {
      "text/plain": [
       "<matplotlib.legend.Legend at 0x7f42f80747c0>"
      ]
     },
     "execution_count": 5,
     "metadata": {},
     "output_type": "execute_result"
    },
    {
     "data": {
      "image/png": "[encoded data removed]",
      "text/plain": [
       "<Figure size 432x288 with 1 Axes>"
      ]
     },
     "metadata": {
      "needs_background": "light"
     },
     "output_type": "display_data"
    }
   ],
   "source": [
    "# plot results\n",
    "\n",
    "plt.plot(np.linspace(3,30,30-3+1), mse_normal, label=\"MSE, normal\")\n",
    "plt.plot(np.linspace(3,30,30-3+1), mse_t, label=\"MSE, t\")\n",
    "plt.xlabel(\"df\",fontsize=13)\n",
    "plt.ylabel(\"mse\",fontsize=13)\n",
    "plt.legend()"
   ]
  },
  {
   "cell_type": "code",
   "execution_count": null,
   "metadata": {},
   "outputs": [],
   "source": []
  }
 ],
 "metadata": {
  "kernelspec": {
   "display_name": "Python 3",
   "language": "python",
   "name": "python3"
  },
  "language_info": {
   "codemirror_mode": {
    "name": "ipython",
    "version": 3
   },
   "file_extension": ".py",
   "mimetype": "text/x-python",
   "name": "python",
   "nbconvert_exporter": "python",
   "pygments_lexer": "ipython3",
   "version": "3.8.5"
  }
 },
 "nbformat": 4,
 "nbformat_minor": 4
}
