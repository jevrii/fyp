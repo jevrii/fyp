{
 "cells": [
  {
   "cell_type": "code",
   "execution_count": 44,
   "metadata": {},
   "outputs": [],
   "source": [
    "import numpy as np\n",
    "import matplotlib.pyplot as plt"
   ]
  },
  {
   "cell_type": "code",
   "execution_count": 430,
   "metadata": {},
   "outputs": [],
   "source": [
    "iterations = 10000\n",
    "n = 1000\n",
    "secret_beta = 2\n",
    "normal_scale = 1"
   ]
  },
  {
   "cell_type": "code",
   "execution_count": 431,
   "metadata": {},
   "outputs": [
    {
     "name": "stdout",
     "output_type": "stream",
     "text": [
      "8.698153160093902e-06 1.1012306905366463e-06\n"
     ]
    }
   ],
   "source": [
    "errors1 = np.array([])\n",
    "errors2 = np.array([])\n",
    "\n",
    "for _ in range(iterations):\n",
    "    x = np.linspace(x.min(),x.max(),n)\n",
    "    y = x*secret_beta + np.random.normal(scale=normal_scale, size=n)\n",
    "    beta1 = np.cov(x, y)[0][1]/np.var(x)\n",
    "    beta2 = np.mean(y)/np.mean(x)\n",
    "    \n",
    "    errors1 = np.append(errors1, (beta1-secret_beta)**2)\n",
    "    errors2 = np.append(errors2, (beta2-secret_beta)**2)\n",
    "    \n",
    "print(errors1.mean(), errors2.mean())"
   ]
  }
 ],
 "metadata": {
  "kernelspec": {
   "display_name": "Python 3",
   "language": "python",
   "name": "python3"
  },
  "language_info": {
   "codemirror_mode": {
    "name": "ipython",
    "version": 3
   },
   "file_extension": ".py",
   "mimetype": "text/x-python",
   "name": "python",
   "nbconvert_exporter": "python",
   "pygments_lexer": "ipython3",
   "version": "3.8.5"
  }
 },
 "nbformat": 4,
 "nbformat_minor": 4
}
