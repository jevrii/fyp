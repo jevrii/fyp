{
 "cells": [
  {
   "cell_type": "markdown",
   "metadata": {},
   "source": [
    "Part 2 concerns adding measurement error into the simulation."
   ]
  },
  {
   "cell_type": "code",
   "execution_count": 1,
   "metadata": {},
   "outputs": [],
   "source": [
    "import numpy as np\n",
    "import matplotlib.pyplot as plt"
   ]
  },
  {
   "cell_type": "code",
   "execution_count": 2,
   "metadata": {},
   "outputs": [],
   "source": [
    "iterations = 1000\n",
    "n = 100\n",
    "secret_beta = 2"
   ]
  },
  {
   "cell_type": "markdown",
   "metadata": {},
   "source": [
    "$$\n",
    "y = \\beta x + \\epsilon\n",
    "$$\n",
    "\n",
    "We only have data on $\\tilde{x} = x + u$, where $u \\sim N(0, \\sigma_u^2)$\n",
    "\n",
    "The OLS estimator for $\\beta$ is\n",
    "\n",
    "$$\n",
    "\\hat{\\beta} = \\frac{cov(\\tilde{x}, y)}{var(\\tilde{x})} = \\frac{cov(x + u, \\beta x + \\epsilon)}{var(\\tilde{x})}\n",
    "$$\n",
    "\n",
    "$$\n",
    "plim \\hat{\\beta} = \\frac{\\sigma^2_x}{\\sigma^2_x + \\sigma^2_u} \\beta\n",
    "$$\n",
    "\n",
    "Thus, the OLS estimator $\\hat{\\beta}$ is biased. The bias is $\\hat{\\beta} - \\beta = -\\frac{\\sigma^2_u}{\\sigma^2_x + \\sigma^2_u} \\beta$\n",
    "\n",
    "Also, $\\sigma^2_x + \\sigma^2_u = var(\\tilde{x})$\n",
    "\n",
    "If $\\sigma^2_u$ is known, we can obtain an unbiased estimator $\\tilde{\\beta} = \\hat{\\beta} \\cdot \\frac{var(\\tilde{x})}{var(\\tilde{x}) - \\sigma^2_u}$"
   ]
  },
  {
   "cell_type": "markdown",
   "metadata": {},
   "source": [
    "Here we try different $\\sigma^2_u$ and $\\sigma^2_\\epsilon$ and calculate the bias and MSE before and after adjusting for biasness."
   ]
  },
  {
   "cell_type": "code",
   "execution_count": 3,
   "metadata": {},
   "outputs": [
    {
     "name": "stdout",
     "output_type": "stream",
     "text": [
      "Normally distributed epsilon\n",
      "var_u=0.00, var_eps=2.00:  Unadjusted: Bias = 0.001192, MSE = 0.000589\n",
      "var_u=0.00, var_eps=2.00:  Adjusted:   Bias = 0.001192, MSE = 0.000589\n",
      "var_u=0.00, var_eps=3.00:  Unadjusted: Bias = -0.000913, MSE = 0.000860\n",
      "var_u=0.00, var_eps=3.00:  Adjusted:   Bias = -0.000913, MSE = 0.000860\n",
      "var_u=0.00, var_eps=4.00:  Unadjusted: Bias = 0.000051, MSE = 0.001213\n",
      "var_u=0.00, var_eps=4.00:  Adjusted:   Bias = 0.000051, MSE = 0.001213\n",
      "var_u=0.50, var_eps=2.00:  Unadjusted: Bias = -0.029005, MSE = 0.001933\n",
      "var_u=0.50, var_eps=2.00:  Adjusted:   Bias = -0.000313, MSE = 0.001157\n",
      "var_u=0.50, var_eps=3.00:  Unadjusted: Bias = -0.026972, MSE = 0.002203\n",
      "var_u=0.50, var_eps=3.00:  Adjusted:   Bias = 0.001812, MSE = 0.001559\n",
      "var_u=0.50, var_eps=4.00:  Unadjusted: Bias = -0.029626, MSE = 0.002536\n",
      "var_u=0.50, var_eps=4.00:  Adjusted:   Bias = -0.000965, MSE = 0.001740\n",
      "var_u=1.00, var_eps=2.00:  Unadjusted: Bias = -0.055578, MSE = 0.004767\n",
      "var_u=1.00, var_eps=2.00:  Adjusted:   Bias = 0.001092, MSE = 0.001917\n",
      "var_u=1.00, var_eps=3.00:  Unadjusted: Bias = -0.057688, MSE = 0.005258\n",
      "var_u=1.00, var_eps=3.00:  Adjusted:   Bias = -0.001121, MSE = 0.002177\n",
      "var_u=1.00, var_eps=4.00:  Unadjusted: Bias = -0.056457, MSE = 0.005515\n",
      "var_u=1.00, var_eps=4.00:  Adjusted:   Bias = 0.000244, MSE = 0.002619\n",
      "var_u=2.00, var_eps=2.00:  Unadjusted: Bias = -0.108397, MSE = 0.014071\n",
      "var_u=2.00, var_eps=2.00:  Adjusted:   Bias = 0.002238, MSE = 0.003112\n",
      "var_u=2.00, var_eps=3.00:  Unadjusted: Bias = -0.106639, MSE = 0.014187\n",
      "var_u=2.00, var_eps=3.00:  Adjusted:   Bias = 0.004047, MSE = 0.003741\n",
      "var_u=2.00, var_eps=4.00:  Unadjusted: Bias = -0.107472, MSE = 0.014744\n",
      "var_u=2.00, var_eps=4.00:  Adjusted:   Bias = 0.003441, MSE = 0.004147\n",
      "var_u=3.00, var_eps=2.00:  Unadjusted: Bias = -0.155132, MSE = 0.027173\n",
      "var_u=3.00, var_eps=2.00:  Adjusted:   Bias = 0.007236, MSE = 0.004923\n",
      "var_u=3.00, var_eps=3.00:  Unadjusted: Bias = -0.157862, MSE = 0.028085\n",
      "var_u=3.00, var_eps=3.00:  Adjusted:   Bias = 0.003916, MSE = 0.004809\n",
      "var_u=3.00, var_eps=4.00:  Unadjusted: Bias = -0.158710, MSE = 0.028664\n",
      "var_u=3.00, var_eps=4.00:  Adjusted:   Bias = 0.002934, MSE = 0.005244\n"
     ]
    }
   ],
   "source": [
    "print(\"Normally distributed epsilon\")\n",
    "\n",
    "for var_u in [0, 0.5, 1, 2, 3]:\n",
    "    for var_eps in [2,3,4]:\n",
    "        bias_beta = np.array([])\n",
    "        sqerr_beta = np.array([])\n",
    "        bias_beta_adj = np.array([])\n",
    "        sqerr_beta_adj = np.array([])\n",
    "        \n",
    "        for _ in range(iterations):\n",
    "            x = np.linspace(-10,10,n)\n",
    "            x_obs = x + np.random.normal(scale=np.sqrt(var_u), size=n)\n",
    "            y = x*secret_beta + np.random.normal(scale=np.sqrt(var_eps), size=n)\n",
    "\n",
    "            beta_est_normal = np.cov(x_obs, y)[0][1]/np.var(x_obs, ddof=1)\n",
    "            beta_est_normal_adj = np.cov(x_obs, y)[0][1]/np.var(x_obs, ddof=1) * np.var(x_obs, ddof=1)/(np.var(x_obs, ddof=1) - var_u)\n",
    "            \n",
    "            bias_beta = np.append(bias_beta, (beta_est_normal-secret_beta))\n",
    "            sqerr_beta = np.append(sqerr_beta, (beta_est_normal-secret_beta)**2)\n",
    "            bias_beta_adj = np.append(bias_beta_adj, (beta_est_normal_adj-secret_beta))\n",
    "            sqerr_beta_adj = np.append(sqerr_beta_adj, (beta_est_normal_adj-secret_beta)**2)\n",
    "\n",
    "        print(\"var_u=%.2f, var_eps=%.2f:  Unadjusted: Bias = %f, MSE = %f\"%(var_u, var_eps, bias_beta.mean(), sqerr_beta.mean()))\n",
    "    \n",
    "        print(\"var_u=%.2f, var_eps=%.2f:  Adjusted:   Bias = %f, MSE = %f\"%(var_u, var_eps, bias_beta_adj.mean(), sqerr_beta_adj.mean()))"
   ]
  },
  {
   "cell_type": "code",
   "execution_count": 5,
   "metadata": {},
   "outputs": [
    {
     "name": "stdout",
     "output_type": "stream",
     "text": [
      "T distributed epsilon\n",
      "var_u=0.00, var_eps=2.00:  Unadjusted: Bias = -0.000093, MSE = 0.000624\n",
      "var_u=0.00, var_eps=2.00:  Adjusted:   Bias = -0.000093, MSE = 0.000624\n",
      "var_u=0.00, var_eps=3.00:  Unadjusted: Bias = 0.000675, MSE = 0.000807\n",
      "var_u=0.00, var_eps=3.00:  Adjusted:   Bias = 0.000675, MSE = 0.000807\n",
      "var_u=0.00, var_eps=4.00:  Unadjusted: Bias = -0.000588, MSE = 0.001080\n",
      "var_u=0.00, var_eps=4.00:  Adjusted:   Bias = -0.000588, MSE = 0.001080\n",
      "var_u=0.50, var_eps=2.00:  Unadjusted: Bias = -0.029665, MSE = 0.002038\n",
      "var_u=0.50, var_eps=2.00:  Adjusted:   Bias = -0.000978, MSE = 0.001228\n",
      "var_u=0.50, var_eps=3.00:  Unadjusted: Bias = -0.029147, MSE = 0.002285\n",
      "var_u=0.50, var_eps=3.00:  Adjusted:   Bias = -0.000465, MSE = 0.001512\n",
      "var_u=0.50, var_eps=4.00:  Unadjusted: Bias = -0.029276, MSE = 0.002505\n",
      "var_u=0.50, var_eps=4.00:  Adjusted:   Bias = -0.000583, MSE = 0.001730\n",
      "var_u=1.00, var_eps=2.00:  Unadjusted: Bias = -0.055385, MSE = 0.004664\n",
      "var_u=1.00, var_eps=2.00:  Adjusted:   Bias = 0.001344, MSE = 0.001827\n",
      "var_u=1.00, var_eps=3.00:  Unadjusted: Bias = -0.053428, MSE = 0.004739\n",
      "var_u=1.00, var_eps=3.00:  Adjusted:   Bias = 0.003385, MSE = 0.002138\n",
      "var_u=1.00, var_eps=4.00:  Unadjusted: Bias = -0.054159, MSE = 0.005244\n",
      "var_u=1.00, var_eps=4.00:  Adjusted:   Bias = 0.002628, MSE = 0.002600\n",
      "var_u=2.00, var_eps=2.00:  Unadjusted: Bias = -0.109806, MSE = 0.014375\n",
      "var_u=2.00, var_eps=2.00:  Adjusted:   Bias = 0.000423, MSE = 0.003084\n",
      "var_u=2.00, var_eps=3.00:  Unadjusted: Bias = -0.106606, MSE = 0.014150\n",
      "var_u=2.00, var_eps=3.00:  Adjusted:   Bias = 0.004140, MSE = 0.003693\n",
      "var_u=2.00, var_eps=4.00:  Unadjusted: Bias = -0.107865, MSE = 0.014641\n",
      "var_u=2.00, var_eps=4.00:  Adjusted:   Bias = 0.002592, MSE = 0.003935\n",
      "var_u=3.00, var_eps=2.00:  Unadjusted: Bias = -0.159037, MSE = 0.028527\n",
      "var_u=3.00, var_eps=2.00:  Adjusted:   Bias = 0.002331, MSE = 0.005012\n",
      "var_u=3.00, var_eps=3.00:  Unadjusted: Bias = -0.158052, MSE = 0.028268\n",
      "var_u=3.00, var_eps=3.00:  Adjusted:   Bias = 0.003748, MSE = 0.005028\n",
      "var_u=3.00, var_eps=4.00:  Unadjusted: Bias = -0.159428, MSE = 0.029236\n",
      "var_u=3.00, var_eps=4.00:  Adjusted:   Bias = 0.001622, MSE = 0.005676\n"
     ]
    }
   ],
   "source": [
    "print(\"T distributed epsilon\")\n",
    "for var_u in [0, 0.5, 1, 2, 3]:\n",
    "    for var_eps in [2,3,4]:\n",
    "        bias_beta = np.array([])\n",
    "        sqerr_beta = np.array([])\n",
    "        bias_beta_adj = np.array([])\n",
    "        sqerr_beta_adj = np.array([])\n",
    "        \n",
    "        for _ in range(iterations):\n",
    "            x = np.linspace(-10,10,n)\n",
    "            x_obs = x + np.random.normal(scale=np.sqrt(var_u), size=n)\n",
    "            y = x*secret_beta + np.random.standard_t(df=-2*var_eps/(1-var_eps), size=n)\n",
    "\n",
    "            beta_est_normal = np.cov(x_obs, y)[0][1]/np.var(x_obs, ddof=1)\n",
    "            beta_est_normal_adj = np.cov(x_obs, y)[0][1]/np.var(x_obs, ddof=1) * np.var(x_obs, ddof=1)/(np.var(x_obs, ddof=1) - var_u)\n",
    "            \n",
    "            bias_beta = np.append(bias_beta, (beta_est_normal-secret_beta))\n",
    "            sqerr_beta = np.append(sqerr_beta, (beta_est_normal-secret_beta)**2)\n",
    "            bias_beta_adj = np.append(bias_beta_adj, (beta_est_normal_adj-secret_beta))\n",
    "            sqerr_beta_adj = np.append(sqerr_beta_adj, (beta_est_normal_adj-secret_beta)**2)\n",
    "\n",
    "        print(\"var_u=%.2f, var_eps=%.2f:  Unadjusted: Bias = %f, MSE = %f\"%(var_u, var_eps, bias_beta.mean(), sqerr_beta.mean()))\n",
    "    \n",
    "        print(\"var_u=%.2f, var_eps=%.2f:  Adjusted:   Bias = %f, MSE = %f\"%(var_u, var_eps, bias_beta_adj.mean(), sqerr_beta_adj.mean()))"
   ]
  }
 ],
 "metadata": {
  "kernelspec": {
   "display_name": "Python 3",
   "language": "python",
   "name": "python3"
  },
  "language_info": {
   "codemirror_mode": {
    "name": "ipython",
    "version": 3
   },
   "file_extension": ".py",
   "mimetype": "text/x-python",
   "name": "python",
   "nbconvert_exporter": "python",
   "pygments_lexer": "ipython3",
   "version": "3.8.3"
  }
 },
 "nbformat": 4,
 "nbformat_minor": 4
}
